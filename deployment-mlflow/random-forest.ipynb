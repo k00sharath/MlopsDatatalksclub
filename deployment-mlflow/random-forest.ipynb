{
 "cells": [
  {
   "cell_type": "code",
   "execution_count": 1,
   "id": "2e25cf66",
   "metadata": {},
   "outputs": [],
   "source": [
    "import pickle\n",
    "\n",
    "import pandas as pd\n",
    "\n",
    "from sklearn.feature_extraction import DictVectorizer\n",
    "from sklearn.ensemble import RandomForestRegressor\n",
    "from sklearn.metrics import mean_squared_error"
   ]
  },
  {
   "cell_type": "code",
   "execution_count": 2,
   "id": "041e9423",
   "metadata": {},
   "outputs": [],
   "source": [
    "from sklearn.pipeline import make_pipeline"
   ]
  },
  {
   "cell_type": "code",
   "execution_count": 3,
   "id": "506bec39",
   "metadata": {},
   "outputs": [
    {
     "data": {
      "text/plain": [
       "<Experiment: artifact_location='mlflow-artifacts:/2', creation_time=1734615170885, experiment_id='2', last_update_time=1734615170885, lifecycle_stage='active', name='green-taxi-duration', tags={}>"
      ]
     },
     "execution_count": 3,
     "metadata": {},
     "output_type": "execute_result"
    }
   ],
   "source": [
    "import mlflow\n",
    "\n",
    "mlflow.set_tracking_uri(\"http://127.0.0.1:5000\")\n",
    "mlflow.set_experiment(\"green-taxi-duration\")"
   ]
  },
  {
   "cell_type": "code",
   "execution_count": 4,
   "id": "b9666e19",
   "metadata": {},
   "outputs": [],
   "source": [
    "def read_dataframe(filename: str):\n",
    "    df = pd.read_parquet(filename)\n",
    "\n",
    "    df['duration'] = df.lpep_dropoff_datetime - df.lpep_pickup_datetime\n",
    "    df.duration = df.duration.dt.total_seconds() / 60\n",
    "    df = df[(df.duration >= 1) & (df.duration <= 60)]\n",
    "\n",
    "    categorical = ['PULocationID', 'DOLocationID']\n",
    "    df[categorical] = df[categorical].astype(str)\n",
    "    return df\n",
    "\n",
    "\n",
    "def prepare_dictionaries(df: pd.DataFrame):\n",
    "    df['PU_DO'] = df['PULocationID'] + '_' + df['DOLocationID']\n",
    "    categorical = ['PU_DO']\n",
    "    numerical = ['trip_distance']\n",
    "    dicts = df[categorical + numerical].to_dict(orient='records')\n",
    "    return dicts"
   ]
  },
  {
   "cell_type": "code",
   "execution_count": 5,
   "id": "6b5f0d80",
   "metadata": {},
   "outputs": [],
   "source": [
    "df_train = read_dataframe('../data/green_tripdata_2024-08.parquet')\n",
    "df_val = read_dataframe('../data/green_tripdata_2024-09.parquet')\n",
    "\n",
    "target = 'duration'\n",
    "y_train = df_train[target].values\n",
    "y_val = df_val[target].values\n",
    "\n",
    "dict_train = prepare_dictionaries(df_train)\n",
    "dict_val = prepare_dictionaries(df_val)"
   ]
  },
  {
   "cell_type": "code",
   "execution_count": 6,
   "id": "c73081e1",
   "metadata": {},
   "outputs": [
    {
     "name": "stderr",
     "output_type": "stream",
     "text": [
      "/home/codespace/anaconda3/envs/exp-tracking-env/lib/python3.9/site-packages/sklearn/metrics/_regression.py:492: FutureWarning: 'squared' is deprecated in version 1.4 and will be removed in 1.6. To calculate the root mean squared error, use the function'root_mean_squared_error'.\n",
      "  warnings.warn(\n"
     ]
    },
    {
     "name": "stdout",
     "output_type": "stream",
     "text": [
      "{'max_depth': 20, 'n_estimators': 100, 'min_samples_leaf': 10, 'random_state': 0} 6.163798291995869\n"
     ]
    },
    {
     "name": "stderr",
     "output_type": "stream",
     "text": [
      "2024/12/22 17:23:20 WARNING mlflow.models.model: Model logged without a signature and input example. Please set `input_example` parameter when logging the model to auto infer the model signature.\n"
     ]
    },
    {
     "name": "stdout",
     "output_type": "stream",
     "text": [
      "🏃 View run rare-mouse-199 at: http://127.0.0.1:5000/#/experiments/2/runs/49a69ddb8a01467b9a14d2c10eea62fa\n",
      "🧪 View experiment at: http://127.0.0.1:5000/#/experiments/2\n"
     ]
    }
   ],
   "source": [
    "with mlflow.start_run():\n",
    "    params = dict(max_depth=20, n_estimators=100, min_samples_leaf=10, random_state=0)\n",
    "    mlflow.log_params(params)\n",
    "\n",
    "    pipeline = make_pipeline(\n",
    "        DictVectorizer(),\n",
    "        RandomForestRegressor(**params, n_jobs=-1)\n",
    "    )\n",
    "\n",
    "    pipeline.fit(dict_train, y_train)\n",
    "    y_pred = pipeline.predict(dict_val)\n",
    "\n",
    "    rmse = mean_squared_error(y_pred, y_val, squared=False)\n",
    "    print(params, rmse)\n",
    "    mlflow.log_metric('rmse', rmse)\n",
    "\n",
    "    mlflow.sklearn.log_model(pipeline, artifact_path=\"model\")"
   ]
  },
  {
   "cell_type": "code",
   "execution_count": 10,
   "id": "c22bbccb",
   "metadata": {},
   "outputs": [],
   "source": [
    "from mlflow.tracking import MlflowClient\n"
   ]
  },
  {
   "cell_type": "code",
   "execution_count": 20,
   "id": "8ff6b57e",
   "metadata": {},
   "outputs": [],
   "source": [
    "MLFLOW_TRACKING_URI = 'http://127.0.0.1:5000'\n",
    "RUN_ID = 'b4d3bca8aa8e46a6b8257fe4541b1136'\n",
    "\n",
    "client = MlflowClient(tracking_uri=MLFLOW_TRACKING_URI)"
   ]
  },
  {
   "cell_type": "code",
   "execution_count": 21,
   "id": "524f7008",
   "metadata": {},
   "outputs": [],
   "source": [
    "path = client.download_artifacts(run_id=RUN_ID, path='dict_vectorizer.bin')"
   ]
  },
  {
   "cell_type": "code",
   "execution_count": 22,
   "id": "d760f7ed",
   "metadata": {},
   "outputs": [],
   "source": [
    "with open(path, 'rb') as f_out:\n",
    "    dv = pickle.load(f_out)"
   ]
  },
  {
   "cell_type": "code",
   "execution_count": 23,
   "id": "c35deb48",
   "metadata": {},
   "outputs": [
    {
     "data": {
      "text/plain": [
       "DictVectorizer()"
      ]
     },
     "execution_count": 23,
     "metadata": {},
     "output_type": "execute_result"
    }
   ],
   "source": [
    "dv"
   ]
  },
  {
   "cell_type": "code",
   "execution_count": 8,
   "id": "529caf33",
   "metadata": {},
   "outputs": [
    {
     "data": {
      "text/html": [
       "<div>\n",
       "<style scoped>\n",
       "    .dataframe tbody tr th:only-of-type {\n",
       "        vertical-align: middle;\n",
       "    }\n",
       "\n",
       "    .dataframe tbody tr th {\n",
       "        vertical-align: top;\n",
       "    }\n",
       "\n",
       "    .dataframe thead th {\n",
       "        text-align: right;\n",
       "    }\n",
       "</style>\n",
       "<table border=\"1\" class=\"dataframe\">\n",
       "  <thead>\n",
       "    <tr style=\"text-align: right;\">\n",
       "      <th></th>\n",
       "      <th>ride_id</th>\n",
       "      <th>lpep_pickup_datetime</th>\n",
       "      <th>PULocationID</th>\n",
       "      <th>DOLocationID</th>\n",
       "      <th>actual_duration</th>\n",
       "      <th>predicted_duration</th>\n",
       "      <th>diff</th>\n",
       "      <th>model_version</th>\n",
       "    </tr>\n",
       "  </thead>\n",
       "  <tbody>\n",
       "    <tr>\n",
       "      <th>0</th>\n",
       "      <td>3fe4051d-3ed5-4bd4-a447-2198ecbe520d</td>\n",
       "      <td>2024-10-01 00:52:13</td>\n",
       "      <td>75</td>\n",
       "      <td>238</td>\n",
       "      <td>10.433333</td>\n",
       "      <td>12.883188</td>\n",
       "      <td>-2.449855</td>\n",
       "      <td>49a69ddb8a01467b9a14d2c10eea62fa</td>\n",
       "    </tr>\n",
       "    <tr>\n",
       "      <th>1</th>\n",
       "      <td>fe9b4145-88fd-4311-8595-cbc481067726</td>\n",
       "      <td>2024-10-01 00:56:34</td>\n",
       "      <td>134</td>\n",
       "      <td>82</td>\n",
       "      <td>7.283333</td>\n",
       "      <td>21.107591</td>\n",
       "      <td>-13.824258</td>\n",
       "      <td>49a69ddb8a01467b9a14d2c10eea62fa</td>\n",
       "    </tr>\n",
       "    <tr>\n",
       "      <th>2</th>\n",
       "      <td>07775003-ec42-4756-9a0f-ba5e4a82f593</td>\n",
       "      <td>2024-10-01 00:23:31</td>\n",
       "      <td>202</td>\n",
       "      <td>260</td>\n",
       "      <td>21.766667</td>\n",
       "      <td>19.195790</td>\n",
       "      <td>2.570876</td>\n",
       "      <td>49a69ddb8a01467b9a14d2c10eea62fa</td>\n",
       "    </tr>\n",
       "    <tr>\n",
       "      <th>3</th>\n",
       "      <td>d2b56adb-09b9-4239-b853-3abf8e20358b</td>\n",
       "      <td>2024-10-01 00:25:02</td>\n",
       "      <td>130</td>\n",
       "      <td>218</td>\n",
       "      <td>12.233333</td>\n",
       "      <td>17.791162</td>\n",
       "      <td>-5.557829</td>\n",
       "      <td>49a69ddb8a01467b9a14d2c10eea62fa</td>\n",
       "    </tr>\n",
       "    <tr>\n",
       "      <th>4</th>\n",
       "      <td>8357e36b-97dc-4cf0-b178-2f5560823af6</td>\n",
       "      <td>2024-10-01 00:11:11</td>\n",
       "      <td>42</td>\n",
       "      <td>94</td>\n",
       "      <td>14.533333</td>\n",
       "      <td>22.176303</td>\n",
       "      <td>-7.642969</td>\n",
       "      <td>49a69ddb8a01467b9a14d2c10eea62fa</td>\n",
       "    </tr>\n",
       "    <tr>\n",
       "      <th>...</th>\n",
       "      <td>...</td>\n",
       "      <td>...</td>\n",
       "      <td>...</td>\n",
       "      <td>...</td>\n",
       "      <td>...</td>\n",
       "      <td>...</td>\n",
       "      <td>...</td>\n",
       "      <td>...</td>\n",
       "    </tr>\n",
       "    <tr>\n",
       "      <th>53624</th>\n",
       "      <td>ccaa3ba5-a289-497c-b71b-fd353ff01ab6</td>\n",
       "      <td>2024-10-31 21:58:14</td>\n",
       "      <td>65</td>\n",
       "      <td>97</td>\n",
       "      <td>10.500000</td>\n",
       "      <td>9.508959</td>\n",
       "      <td>0.991041</td>\n",
       "      <td>49a69ddb8a01467b9a14d2c10eea62fa</td>\n",
       "    </tr>\n",
       "    <tr>\n",
       "      <th>53625</th>\n",
       "      <td>284811cd-d098-400a-9d76-8d09e31d0888</td>\n",
       "      <td>2024-10-31 22:44:00</td>\n",
       "      <td>116</td>\n",
       "      <td>143</td>\n",
       "      <td>17.000000</td>\n",
       "      <td>22.948301</td>\n",
       "      <td>-5.948301</td>\n",
       "      <td>49a69ddb8a01467b9a14d2c10eea62fa</td>\n",
       "    </tr>\n",
       "    <tr>\n",
       "      <th>53626</th>\n",
       "      <td>7a5f831e-642d-43c8-8b4d-147cab577ad6</td>\n",
       "      <td>2024-10-31 22:06:00</td>\n",
       "      <td>7</td>\n",
       "      <td>129</td>\n",
       "      <td>13.000000</td>\n",
       "      <td>17.239260</td>\n",
       "      <td>-4.239260</td>\n",
       "      <td>49a69ddb8a01467b9a14d2c10eea62fa</td>\n",
       "    </tr>\n",
       "    <tr>\n",
       "      <th>53627</th>\n",
       "      <td>454250ae-0b83-40bb-a995-c6559754a828</td>\n",
       "      <td>2024-10-31 23:19:17</td>\n",
       "      <td>112</td>\n",
       "      <td>36</td>\n",
       "      <td>21.166667</td>\n",
       "      <td>19.029241</td>\n",
       "      <td>2.137426</td>\n",
       "      <td>49a69ddb8a01467b9a14d2c10eea62fa</td>\n",
       "    </tr>\n",
       "    <tr>\n",
       "      <th>53628</th>\n",
       "      <td>7994880d-2623-4d64-a85e-8b1d4c7fa707</td>\n",
       "      <td>2024-10-31 23:38:00</td>\n",
       "      <td>33</td>\n",
       "      <td>249</td>\n",
       "      <td>25.000000</td>\n",
       "      <td>19.825662</td>\n",
       "      <td>5.174338</td>\n",
       "      <td>49a69ddb8a01467b9a14d2c10eea62fa</td>\n",
       "    </tr>\n",
       "  </tbody>\n",
       "</table>\n",
       "<p>53629 rows × 8 columns</p>\n",
       "</div>"
      ],
      "text/plain": [
       "                                    ride_id lpep_pickup_datetime PULocationID  \\\n",
       "0      3fe4051d-3ed5-4bd4-a447-2198ecbe520d  2024-10-01 00:52:13           75   \n",
       "1      fe9b4145-88fd-4311-8595-cbc481067726  2024-10-01 00:56:34          134   \n",
       "2      07775003-ec42-4756-9a0f-ba5e4a82f593  2024-10-01 00:23:31          202   \n",
       "3      d2b56adb-09b9-4239-b853-3abf8e20358b  2024-10-01 00:25:02          130   \n",
       "4      8357e36b-97dc-4cf0-b178-2f5560823af6  2024-10-01 00:11:11           42   \n",
       "...                                     ...                  ...          ...   \n",
       "53624  ccaa3ba5-a289-497c-b71b-fd353ff01ab6  2024-10-31 21:58:14           65   \n",
       "53625  284811cd-d098-400a-9d76-8d09e31d0888  2024-10-31 22:44:00          116   \n",
       "53626  7a5f831e-642d-43c8-8b4d-147cab577ad6  2024-10-31 22:06:00            7   \n",
       "53627  454250ae-0b83-40bb-a995-c6559754a828  2024-10-31 23:19:17          112   \n",
       "53628  7994880d-2623-4d64-a85e-8b1d4c7fa707  2024-10-31 23:38:00           33   \n",
       "\n",
       "      DOLocationID  actual_duration  predicted_duration       diff  \\\n",
       "0              238        10.433333           12.883188  -2.449855   \n",
       "1               82         7.283333           21.107591 -13.824258   \n",
       "2              260        21.766667           19.195790   2.570876   \n",
       "3              218        12.233333           17.791162  -5.557829   \n",
       "4               94        14.533333           22.176303  -7.642969   \n",
       "...            ...              ...                 ...        ...   \n",
       "53624           97        10.500000            9.508959   0.991041   \n",
       "53625          143        17.000000           22.948301  -5.948301   \n",
       "53626          129        13.000000           17.239260  -4.239260   \n",
       "53627           36        21.166667           19.029241   2.137426   \n",
       "53628          249        25.000000           19.825662   5.174338   \n",
       "\n",
       "                          model_version  \n",
       "0      49a69ddb8a01467b9a14d2c10eea62fa  \n",
       "1      49a69ddb8a01467b9a14d2c10eea62fa  \n",
       "2      49a69ddb8a01467b9a14d2c10eea62fa  \n",
       "3      49a69ddb8a01467b9a14d2c10eea62fa  \n",
       "4      49a69ddb8a01467b9a14d2c10eea62fa  \n",
       "...                                 ...  \n",
       "53624  49a69ddb8a01467b9a14d2c10eea62fa  \n",
       "53625  49a69ddb8a01467b9a14d2c10eea62fa  \n",
       "53626  49a69ddb8a01467b9a14d2c10eea62fa  \n",
       "53627  49a69ddb8a01467b9a14d2c10eea62fa  \n",
       "53628  49a69ddb8a01467b9a14d2c10eea62fa  \n",
       "\n",
       "[53629 rows x 8 columns]"
      ]
     },
     "execution_count": 8,
     "metadata": {},
     "output_type": "execute_result"
    }
   ],
   "source": [
    "pd.read_parquet('./output/nyc-duration-pred_green_2024_10_49a69ddb8a01467b9a14d2c10eea62fa.parquet')"
   ]
  },
  {
   "cell_type": "code",
   "execution_count": null,
   "id": "b8326a1c",
   "metadata": {},
   "outputs": [],
   "source": []
  }
 ],
 "metadata": {
  "kernelspec": {
   "display_name": "Python 3",
   "language": "python",
   "name": "python3"
  },
  "language_info": {
   "codemirror_mode": {
    "name": "ipython",
    "version": 3
   },
   "file_extension": ".py",
   "mimetype": "text/x-python",
   "name": "python",
   "nbconvert_exporter": "python",
   "pygments_lexer": "ipython3",
   "version": "3.9.20"
  }
 },
 "nbformat": 4,
 "nbformat_minor": 5
}
